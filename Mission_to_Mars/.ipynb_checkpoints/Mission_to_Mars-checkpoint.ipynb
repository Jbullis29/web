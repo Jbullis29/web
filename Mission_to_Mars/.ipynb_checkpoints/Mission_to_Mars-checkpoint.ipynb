{
 "cells": [
  {
   "cell_type": "code",
   "execution_count": 10,
   "metadata": {},
   "outputs": [],
   "source": [
    "# Import dependancies\n",
    "\n",
    "import pandas as pd\n",
    "import numpy as np\n",
    "import matplotlib.pyplot as plt\n",
    "from splinter import Browser\n",
    "from bs4 import BeautifulSoup\n",
    "from selenium import webdriver\n",
    "from webdriver_manager.chrome import ChromeDriverManager\n",
    "import pymongo\n",
    "import datetime\n",
    "import requests\n",
    "import time "
   ]
  },
  {
   "cell_type": "code",
   "execution_count": 11,
   "metadata": {},
   "outputs": [],
   "source": [
    "# Create my connection to Pymongo\n",
    "conn = 'mongodb://localhost:27017'\n",
    "client = pymongo.MongoClient(conn)\n",
    "#drop my database \n",
    "client.drop_database('mars_db')"
   ]
  },
  {
   "cell_type": "code",
   "execution_count": 12,
   "metadata": {},
   "outputs": [],
   "source": [
    "# Creat DB named mars_db\n",
    "db = client.mars_db\n",
    "# create collection (A.K.A Table) in my database\n",
    "collection = db.articles"
   ]
  },
  {
   "cell_type": "code",
   "execution_count": 13,
   "metadata": {},
   "outputs": [
    {
     "name": "stderr",
     "output_type": "stream",
     "text": [
      "\n",
      "\n",
      "====== WebDriver manager ======\n",
      "Current google-chrome version is 91.0.4472\n",
      "Get LATEST driver version for 91.0.4472\n",
      "Driver [C:\\Users\\Jordan\\.wdm\\drivers\\chromedriver\\win32\\91.0.4472.19\\chromedriver.exe] found in cache\n"
     ]
    }
   ],
   "source": [
    "# Open a new chrome window To begin my web scraping\n",
    "executable_path = {'executable_path': ChromeDriverManager().install()}\n",
    "browser = Browser('chrome', **executable_path, headless=False)"
   ]
  },
  {
   "cell_type": "code",
   "execution_count": 14,
   "metadata": {},
   "outputs": [],
   "source": [
    "# defines the url that I want the browser to visti\n",
    "mars_url = 'https://mars.nasa.gov/news/'\n",
    "browser.visit(mars_url)"
   ]
  },
  {
   "cell_type": "code",
   "execution_count": 15,
   "metadata": {},
   "outputs": [
    {
     "name": "stdout",
     "output_type": "stream",
     "text": [
      "NASA's InSight Mars Lander Gets a Power Boost\n",
      "June  3, 2021\n",
      "The spacecraft successfully cleared some dust off its solar panels, helping to raise its energy and delay when it will need to switch off its science instruments.\n",
      "---------------------------------------------------------------\n"
     ]
    }
   ],
   "source": [
    "# create a new  master dictionary to store all of my scraped data the will late be stored in mongo\n",
    "mars_dict = {'article_title':[], 'article_date':[], 'article_paragraph':[],\n",
    "            'featured_image_url':[]}\n",
    "# assign the html I want soup to read to a variable called HTML\n",
    "html = browser.html\n",
    "# create variable called soup that will allow me to search whats within my html\n",
    "soup = BeautifulSoup(html, 'html.parser')\n",
    "\n",
    "# searching to find divs by assigned class saved it to results\n",
    "results =soup.find('div', class_='grid_layout')\n",
    "# collected list items withing my results varialble\n",
    "list_1 = results.find('li', class_='slide')\n",
    "#find the div within my list variable\n",
    "container = list_1.find('div', class_='image_and_description_container')\n",
    "#find the text within within the div \n",
    "container_text = container.find('div', class_='list_text')\n",
    "\n",
    "# save article title text to variable for printing\n",
    "mars_title = container_text.find('a').text\n",
    "# save article paragrah text to variable to variable for print\n",
    "mars_p = container.find('div', class_='article_teaser_body').text\n",
    "# save date text to variable for printing \n",
    "mars_date = container_text.find('div', class_='list_date').text\n",
    "\n",
    "#Save variable outputs to dict for later data base entry\n",
    "mars_dict['article_title'].append(mars_title)\n",
    "mars_dict['article_date'].append(mars_date)\n",
    "mars_dict['article_paragraph'].append(mars_p)\n",
    "\n",
    "#print variable outputs for verification\n",
    "print(mars_title)\n",
    "print(mars_date)\n",
    "print(mars_p)\n",
    "print('---------------------------------------------------------------')"
   ]
  },
  {
   "cell_type": "code",
   "execution_count": 16,
   "metadata": {},
   "outputs": [],
   "source": [
    "#assign URL for next search ti variable\n",
    "image_url ='https://data-class-jpl-space.s3.amazonaws.com/JPL_Space/index.html'\n",
    "# tell browser to visit URL\n",
    "browser.visit(image_url)"
   ]
  },
  {
   "cell_type": "code",
   "execution_count": 17,
   "metadata": {},
   "outputs": [
    {
     "name": "stdout",
     "output_type": "stream",
     "text": [
      "https://data-class-jpl-space.s3.amazonaws.com/JPL_Space/image/featured/mars1.jpg\n"
     ]
    }
   ],
   "source": [
    "# save base URL to variable for later addening to my search to have active link\n",
    "base_url='https://data-class-jpl-space.s3.amazonaws.com/JPL_Space/'\n",
    "#assign my HTML of visited page to variable for later searching\n",
    "html = browser.html\n",
    "# assign variable to for html searching\n",
    "soup = BeautifulSoup(html, 'html.parser')\n",
    "# search for div with assigned class\n",
    "results = soup.find('div', class_='header')\n",
    "# serch for img tag within the previous search\n",
    "link = results.find('img', class_='headerimage')['src']\n",
    "# assign url to variable for printing\n",
    "featured_mars_url = f'{base_url + link}'\n",
    "# add featured url to to master dictionary for later adding to DB\n",
    "mars_dict['featured_image_url'].append(featured_mars_url)\n",
    "#print link to verify it works\n",
    "print(featured_mars_url)\n"
   ]
  },
  {
   "cell_type": "code",
   "execution_count": 18,
   "metadata": {},
   "outputs": [],
   "source": [
    "# assign varible to url for pandas to visit\n",
    "url = 'https://space-facts.com/mars/'\n",
    "# assign varible for tables pandas will pull from abovr URL\n",
    "mars_fact_tabe = pd.read_html(url)"
   ]
  },
  {
   "cell_type": "code",
   "execution_count": 19,
   "metadata": {},
   "outputs": [
    {
     "data": {
      "text/html": [
       "<div>\n",
       "<style scoped>\n",
       "    .dataframe tbody tr th:only-of-type {\n",
       "        vertical-align: middle;\n",
       "    }\n",
       "\n",
       "    .dataframe tbody tr th {\n",
       "        vertical-align: top;\n",
       "    }\n",
       "\n",
       "    .dataframe thead th {\n",
       "        text-align: right;\n",
       "    }\n",
       "</style>\n",
       "<table border=\"1\" class=\"dataframe\">\n",
       "  <thead>\n",
       "    <tr style=\"text-align: right;\">\n",
       "      <th></th>\n",
       "      <th>0</th>\n",
       "      <th>1</th>\n",
       "    </tr>\n",
       "  </thead>\n",
       "  <tbody>\n",
       "    <tr>\n",
       "      <th>0</th>\n",
       "      <td>Equatorial Diameter:</td>\n",
       "      <td>6,792 km</td>\n",
       "    </tr>\n",
       "    <tr>\n",
       "      <th>1</th>\n",
       "      <td>Polar Diameter:</td>\n",
       "      <td>6,752 km</td>\n",
       "    </tr>\n",
       "    <tr>\n",
       "      <th>2</th>\n",
       "      <td>Mass:</td>\n",
       "      <td>6.39 × 10^23 kg (0.11 Earths)</td>\n",
       "    </tr>\n",
       "    <tr>\n",
       "      <th>3</th>\n",
       "      <td>Moons:</td>\n",
       "      <td>2 (Phobos &amp; Deimos)</td>\n",
       "    </tr>\n",
       "    <tr>\n",
       "      <th>4</th>\n",
       "      <td>Orbit Distance:</td>\n",
       "      <td>227,943,824 km (1.38 AU)</td>\n",
       "    </tr>\n",
       "    <tr>\n",
       "      <th>5</th>\n",
       "      <td>Orbit Period:</td>\n",
       "      <td>687 days (1.9 years)</td>\n",
       "    </tr>\n",
       "    <tr>\n",
       "      <th>6</th>\n",
       "      <td>Surface Temperature:</td>\n",
       "      <td>-87 to -5 °C</td>\n",
       "    </tr>\n",
       "    <tr>\n",
       "      <th>7</th>\n",
       "      <td>First Record:</td>\n",
       "      <td>2nd millennium BC</td>\n",
       "    </tr>\n",
       "    <tr>\n",
       "      <th>8</th>\n",
       "      <td>Recorded By:</td>\n",
       "      <td>Egyptian astronomers</td>\n",
       "    </tr>\n",
       "  </tbody>\n",
       "</table>\n",
       "</div>"
      ],
      "text/plain": [
       "                      0                              1\n",
       "0  Equatorial Diameter:                       6,792 km\n",
       "1       Polar Diameter:                       6,752 km\n",
       "2                 Mass:  6.39 × 10^23 kg (0.11 Earths)\n",
       "3                Moons:            2 (Phobos & Deimos)\n",
       "4       Orbit Distance:       227,943,824 km (1.38 AU)\n",
       "5         Orbit Period:           687 days (1.9 years)\n",
       "6  Surface Temperature:                   -87 to -5 °C\n",
       "7         First Record:              2nd millennium BC\n",
       "8          Recorded By:           Egyptian astronomers"
      ]
     },
     "execution_count": 19,
     "metadata": {},
     "output_type": "execute_result"
    }
   ],
   "source": [
    "# select the table I want and save it to variable\n",
    "mars_table=mars_fact_tabe[0]\n",
    "# print variable to verify I got the right table\n",
    "mars_table"
   ]
  },
  {
   "cell_type": "code",
   "execution_count": 20,
   "metadata": {},
   "outputs": [
    {
     "name": "stderr",
     "output_type": "stream",
     "text": [
      "C:\\ProgramData\\Anaconda3\\lib\\site-packages\\splinter\\driver\\webdriver\\__init__.py:490: FutureWarning: browser.find_link_by_partial_text is deprecated. Use browser.links.find_by_partial_text instead.\n",
      "  warnings.warn(\n"
     ]
    }
   ],
   "source": [
    "# assign next URL for browser to visit \n",
    "mars_hemis_url = 'https://astrogeology.usgs.gov/search/results?q=hemisphere+enhanced&k1=target&v1=Mars'\n",
    "# tell browser to visit URL\n",
    "browser.visit(mars_hemis_url)\n",
    "# assign variable to the base url to add my searches to for usable link\n",
    "base_url ='https://astrogeology.usgs.gov'\n",
    "# assign html variable web page currently being visited\n",
    "html = browser.html\n",
    "# Tell soup to search html\n",
    "soup = BeautifulSoup(html, 'html.parser')\n",
    "#tell soup to find all of the divs on the page with assiges class\n",
    "results =soup.find_all('div', class_='description')\n",
    "# create new sub dict to add to master dict after datats added\n",
    "hemi_dict={'hemi_title':[], 'img_url':[]}\n",
    "# for loop to loop theough all rsults that soup find all found\n",
    "for names in results:\n",
    "    # during loop find the hemisphere name by searching h3 tag in all results\n",
    "    hemi = names.find('h3').text\n",
    "    #After h3 tag is found click the name corresponding to h3s text\n",
    "    browser.click_link_by_partial_text(hemi)\n",
    "    # Change the HTML to match corrosponding page after the click\n",
    "    html = browser.html\n",
    "    #use Soup to search HMTL\n",
    "    soup = BeautifulSoup(html, 'html.parser')\n",
    "    # Use soup to find all img tags and then select \n",
    "    mars_img_url = soup.find_all('img')[5]['src']\n",
    "    # add the hemisphere title to my sub dictionary\n",
    "    hemi_dict['hemi_title'].append(hemi)\n",
    "    # add the hemisphere url to my sub dict\n",
    "    hemi_dict['img_url'].append(base_url + mars_img_url)\n",
    "    # tell the browser to go back after it has the shit \n",
    "    browser.back()\n",
    "#add sub dict to master dict and save it as a list named title\n",
    "mars_dict['title'] = hemi_dict\n",
    "#quit browser cause scraping is done \n",
    "browser.quit()\n",
    "\n",
    "\n",
    "   \n",
    "    "
   ]
  },
  {
   "cell_type": "code",
   "execution_count": 21,
   "metadata": {
    "scrolled": true
   },
   "outputs": [
    {
     "data": {
      "text/plain": [
       "{'article_title': [\"NASA's InSight Mars Lander Gets a Power Boost\"],\n",
       " 'article_date': ['June  3, 2021'],\n",
       " 'article_paragraph': ['The spacecraft successfully cleared some dust off its solar panels, helping to raise its energy and delay when it will need to switch off its science instruments.'],\n",
       " 'featured_image_url': ['https://data-class-jpl-space.s3.amazonaws.com/JPL_Space/image/featured/mars1.jpg'],\n",
       " 'title': {'hemi_title': ['Cerberus Hemisphere Enhanced',\n",
       "   'Schiaparelli Hemisphere Enhanced',\n",
       "   'Syrtis Major Hemisphere Enhanced',\n",
       "   'Valles Marineris Hemisphere Enhanced'],\n",
       "  'img_url': ['https://astrogeology.usgs.gov/cache/images/f5e372a36edfa389625da6d0cc25d905_cerberus_enhanced.tif_full.jpg',\n",
       "   'https://astrogeology.usgs.gov/cache/images/3778f7b43bbbc89d6e3cfabb3613ba93_schiaparelli_enhanced.tif_full.jpg',\n",
       "   'https://astrogeology.usgs.gov/cache/images/555e6403a6ddd7ba16ddb0e471cadcf7_syrtis_major_enhanced.tif_full.jpg',\n",
       "   'https://astrogeology.usgs.gov/cache/images/b3c7c6c9138f57b4756be9b9c43e3a48_valles_marineris_enhanced.tif_full.jpg']}}"
      ]
     },
     "execution_count": 21,
     "metadata": {},
     "output_type": "execute_result"
    }
   ],
   "source": [
    "#admire my dict\n",
    "mars_dict"
   ]
  },
  {
   "cell_type": "code",
   "execution_count": null,
   "metadata": {},
   "outputs": [],
   "source": [
    "# add my data to my mong db mars_db.article\n",
    "collection.insert_one(mars_dict)"
   ]
  },
  {
   "cell_type": "code",
   "execution_count": null,
   "metadata": {},
   "outputs": [],
   "source": []
  }
 ],
 "metadata": {
  "kernelspec": {
   "display_name": "Python 3",
   "language": "python",
   "name": "python3"
  },
  "language_info": {
   "codemirror_mode": {
    "name": "ipython",
    "version": 3
   },
   "file_extension": ".py",
   "mimetype": "text/x-python",
   "name": "python",
   "nbconvert_exporter": "python",
   "pygments_lexer": "ipython3",
   "version": "3.8.5"
  }
 },
 "nbformat": 4,
 "nbformat_minor": 4
}
